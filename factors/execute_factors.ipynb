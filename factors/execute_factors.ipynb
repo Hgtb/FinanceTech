{
 "cells": [
  {
   "cell_type": "code",
   "execution_count": 1,
   "metadata": {
    "collapsed": true
   },
   "outputs": [],
   "source": [
    "from AutoAlpha import autoalpha as aa\n",
    "from AutoAlpha.utils.show_info_in_traning import *\n",
    "import numpy as np\n",
    "import pandas as pd\n",
    "import pickle\n",
    "from tqdm import tqdm\n",
    "# from pympler.asizeof import asizeof\n",
    "from copy import deepcopy"
   ]
  },
  {
   "cell_type": "code",
   "execution_count": 2,
   "outputs": [
    {
     "name": "stdout",
     "output_type": "stream",
     "text": [
      "(1449, 503)\n",
      "(1449, 503)\n"
     ]
    }
   ],
   "source": [
    "with open(\"../data/us_data_2017_2023.pkl\", \"rb\") as f:\n",
    "    data_X = pickle.load(f)\n",
    "with open(\"../data/us_return_2017_2023.pkl\", \"rb\") as f:\n",
    "    data_y = pickle.load(f)\n",
    "print(data_X[\"open\"].shape)\n",
    "print(data_y.shape)"
   ],
   "metadata": {
    "collapsed": false
   }
  },
  {
   "cell_type": "code",
   "execution_count": 3,
   "outputs": [],
   "source": [
    "# 需要分割数据集时\n",
    "x = {}\n",
    "for idx, dat in data_X.items():\n",
    "    x[idx] = dat.values\n",
    "y = data_y.values\n",
    "dataset = aa.Dataset(x, y)\n",
    "aa.set_dataset(dataset=dataset)"
   ],
   "metadata": {
    "collapsed": false
   }
  },
  {
   "cell_type": "code",
   "execution_count": 4,
   "outputs": [
    {
     "name": "stdout",
     "output_type": "stream",
     "text": [
      "64\n"
     ]
    }
   ],
   "source": [
    "aa.set_use_parallel(True)\n",
    "aa.set_d_ls([2, 3, 5, 7, 10, 15, 20])\n",
    "aa.set_balance_mode(True)\n",
    "aa.set_tournament_size(1)\n",
    "aa.set_metric(aa.WQF)\n",
    "aa.set_low_memory(False)\n",
    "print(aa.get_n_jobs())"
   ],
   "metadata": {
    "collapsed": false
   }
  },
  {
   "cell_type": "code",
   "execution_count": 5,
   "outputs": [
    {
     "name": "stdout",
     "output_type": "stream",
     "text": [
      "1645\n"
     ]
    },
    {
     "data": {
      "text/plain": "<Figure size 640x480 with 1 Axes>",
      "image/png": "[encoded data removed]"
     },
     "metadata": {},
     "output_type": "display_data"
    }
   ],
   "source": [
    "program3 = load_programs(\"2023_05_15/program3_1_4_corr.pkl\")\n",
    "program3 = aa.sort_programs(program3)\n",
    "print(len(program3))\n",
    "show_distribution(program3)"
   ],
   "metadata": {
    "collapsed": false
   }
  },
  {
   "cell_type": "code",
   "execution_count": 6,
   "outputs": [
    {
     "name": "stdout",
     "output_type": "stream",
     "text": [
      "1645\n"
     ]
    }
   ],
   "source": [
    "program3 = aa.corr_filter(program3)\n",
    "print(len(program3))"
   ],
   "metadata": {
    "collapsed": false
   }
  },
  {
   "cell_type": "code",
   "execution_count": 7,
   "outputs": [],
   "source": [
    "program_best = program3[: 100]"
   ],
   "metadata": {
    "collapsed": false
   }
  },
  {
   "cell_type": "code",
   "execution_count": 8,
   "outputs": [
    {
     "data": {
      "text/plain": "[max(ts_corr(-ts_covariance(high, volume, 2), -sigmoid(high), 10), -ts_regbeta(ts_covariance(returns, low, 7), -sigmoid(low), 5)),\n min(min(-ts_returns(low, 5), -sigmoid(vwap)), min(ts_regbeta(high, low, 15), -sigmoid(vwap))),\n max(-div(-ts_regbeta(vwap, returns, 3), -ts_product(high, 15)), ts_corr(-ts_covariance(volume, low, 2), -sigmoid(high), 10)),\n -ts_max(-ts_regbeta(-ts_product(vwap, 15), ts_regbeta(high, open, 7), 20), 10),\n max(-div(-ts_regbeta(vwap, returns, 3), -ts_product(high, 15)), ts_corr(-ts_covariance(returns, returns, 2), -sigmoid(close), 10)),\n -add(div(ts_delay(adv20, 7), ts_product(vwap, 15)), min(-ts_returns(low, 5), -sigmoid(vwap))),\n -add(min(ts_regbeta(volume, adv20, 15), -sigmoid(vwap)), min(-ts_returns(low, 5), -sigmoid(vwap))),\n -ts_min(min(-ts_returns(low, 5), -sigmoid(vwap)), 10),\n -ts_min(-ts_covariance(ts_regbeta(adv20, returns, 3), -sigmoid(low), 20), 60),\n ts_std_dev(ts_corr(-ts_covariance(high, volume, 2), -sigmoid(high), 10), 60),\n max(div(ts_delay(returns, 7), ts_product(open, 15)), ts_corr(-ts_covariance(vwap, returns, 2), -sigmoid(vwap), 10)),\n add(div(-ts_corr(close, returns, 2), -ts_product(low, 15)), min(-ts_returns(low, 5), -sigmoid(vwap))),\n -mul(div(-ts_regbeta(vwap, returns, 20), -rank(vwap)), ts_std_dev(-sigmoid(vwap), 5)),\n max(-ts_regbeta(ts_covariance(returns, close, 7), -sigmoid(vwap), 5), -ts_regbeta(-sigmoid(high), -ts_regbeta(high, open, 5), 10)),\n max(-ts_regbeta(-ts_covariance(adv20, returns, 2), ts_product(returns, 15), 40), -ts_corr(-sigmoid(low), ts_regbeta(low, volume, 20), 5)),\n -max(-ts_regbeta(ts_covariance(open, close, 7), -sigmoid(open), 5), ts_corr(-sigmoid(high), -mul(close, returns), 5)),\n -min(min(-ts_returns(vwap, 5), -sigmoid(vwap)), min(ts_regbeta(high, low, 15), -sigmoid(vwap))),\n ts_wma(min(-ts_returns(low, 5), -sigmoid(vwap)), 5),\n ts_std_dev(min(ts_regbeta(high, low, 15), -sigmoid(vwap)), 2),\n max(ts_corr(-sigmoid(high), -mul(close, returns), 5), -ts_regbeta(-ts_covariance(adv20, returns, 2), ts_product(returns, 15), 40)),\n -ts_max(-ts_regbeta(-ts_product(vwap, 15), ts_regbeta(adv20, returns, 5), 20), 40),\n -min(-div(-ts_regbeta(low, returns, 3), -ts_product(high, 15)), -ts_covariance(ts_regbeta(adv20, returns, 3), -sigmoid(low), 20)),\n max(-ts_corr(-ts_covariance(high, returns, 2), -sigmoid(low), 10), div(-ts_corr(close, returns, 2), -ts_product(vwap, 15))),\n ts_decay_linear(min(-ts_returns(low, 5), -sigmoid(vwap)), 2),\n -ts_product(min(ts_regbeta(high, low, 15), -sigmoid(vwap)), 2),\n -sub(ts_corr(-sigmoid(vwap), -mul(close, adv20), 5), -div(-ts_regbeta(returns, close, 3), -ts_product(low, 15))),\n max(-ts_regbeta(ts_covariance(returns, close, 7), -sigmoid(vwap), 5), -ts_corr(-sigmoid(vwap), ts_regbeta(returns, volume, 20), 5)),\n max(div(-ts_corr(vwap, open, 2), -ts_product(vwap, 15)), -ts_corr(-sigmoid(vwap), ts_regbeta(low, high, 20), 5)),\n -ts_product(div(ts_delay(adv20, 7), ts_product(vwap, 15)), 5),\n max(ts_corr(-sigmoid(low), -mul(returns, volume), 5), -ts_regbeta(-ts_covariance(adv20, returns, 2), ts_product(returns, 15), 40)),\n ts_std_dev(-ts_regbeta(-sigmoid(high), -ts_regbeta(low, open, 5), 10), 60),\n ts_delay(min(ts_regbeta(high, open, 15), -sigmoid(vwap)), 2),\n -max(ts_corr(-ts_covariance(vwap, volume, 2), -sigmoid(low), 10), -ts_regbeta(ts_covariance(high, close, 7), -sigmoid(vwap), 5)),\n -ts_decay_linear(ts_corr(-ts_covariance(returns, volume, 2), -sigmoid(high), 10), 60),\n -ts_delay(min(ts_regbeta(volume, adv20, 15), -sigmoid(vwap)), 2),\n -ts_sum(-ts_product(ts_regbeta(open, returns, 15), 5), 5),\n max(ts_corr(-ts_covariance(vwap, adv20, 2), -sigmoid(high), 10), -ts_regbeta(-ts_covariance(adv20, returns, 2), ts_product(returns, 15), 40)),\n max(-ts_covariance(ts_regbeta(high, vwap, 3), -sigmoid(open), 20), -ts_product(-ts_regbeta(low, returns, 10), 60)),\n -sub(-ts_corr(-sigmoid(high), ts_regbeta(high, low, 20), 5), min(-ts_returns(low, 5), -sigmoid(vwap))),\n max(-ts_returns(ts_product(returns, 5), 60), div(-ts_corr(open, low, 2), -ts_product(vwap, 15))),\n -min(-ts_product(ts_regbeta(adv20, returns, 15), 5), div(-ts_corr(open, low, 2), -ts_product(vwap, 15))),\n -ts_std_dev(-ts_product(ts_regbeta(open, returns, 15), 5), 2),\n signed_power(min(ts_regbeta(high, open, 15), -sigmoid(vwap))),\n max(ts_corr(-ts_covariance(open, volume, 2), -sigmoid(high), 10), -ts_covariance(-ts_regbeta(vwap, returns, 3), ts_regbeta(high, returns, 5), 10)),\n -ts_std_dev(min(ts_regbeta(high, open, 15), -sigmoid(vwap)), 2),\n max(-ts_corr(-ts_regbeta(volume, high, 5), -ts_regbeta(returns, returns, 20), 40), -ts_product(ts_regbeta(open, returns, 15), 5)),\n -max(ts_corr(-ts_covariance(returns, vwap, 2), -sigmoid(high), 10), -ts_product(ts_regbeta(high, returns, 5), 40)),\n max(-ts_product(-ts_covariance(returns, returns, 5), 40), ts_regbeta(-ts_product(close, 15), ts_regbeta(low, returns, 5), 20)),\n -min(-ts_corr(-sigmoid(open), -mul(high, returns), 5), div(-ts_corr(open, low, 2), -ts_product(vwap, 15))),\n max(-ts_regbeta(-sigmoid(open), -ts_regbeta(high, open, 5), 10), -ts_regbeta(-sigmoid(open), -ts_regbeta(vwap, returns, 5), 10)),\n add(max(-ts_regbeta(open, returns, 3), ts_regbeta(returns, returns, 15)), ts_max(-sigmoid(vwap), 2)),\n -ts_decay_linear(-ts_corr(-sigmoid(low), ts_regbeta(low, volume, 20), 5), 20),\n -min(-ts_covariance(ts_regbeta(adv20, adv20, 10), ts_covariance(high, open, 15), 5), div(-ts_corr(close, returns, 2), -ts_product(vwap, 15))),\n -min(-div(ts_regbeta(open, returns, 5), ts_product(vwap, 15)), -ts_regbeta(ts_covariance(volume, open, 7), -sigmoid(vwap), 5)),\n -min(div(-ts_corr(open, low, 2), -ts_product(vwap, 15)), -ts_regbeta(-sigmoid(vwap), -ts_regbeta(low, volume, 5), 10)),\n -max(ts_corr(-ts_covariance(returns, volume, 2), -sigmoid(high), 10), -ts_product(ts_regbeta(high, returns, 5), 40)),\n max(-ts_product(ts_regbeta(high, returns, 5), 40), -ts_regbeta(ts_covariance(volume, low, 7), -sigmoid(low), 5)),\n -min(min(ts_regbeta(high, open, 15), -sigmoid(vwap)), -mul(ts_regbeta(high, returns, 10), ts_regbeta(open, vwap, 10))),\n -min(-ts_covariance(ts_regbeta(adv20, returns, 3), -sigmoid(low), 20), div(ts_regbeta(returns, high, 5), ts_product(vwap, 15))),\n -signed_power(-div(ts_regbeta(high, open, 5), ts_product(vwap, 15))),\n max(-ts_corr(-sigmoid(vwap), ts_regbeta(adv20, volume, 20), 5), -ts_regbeta(ts_covariance(volume, low, 7), -sigmoid(low), 5)),\n -ts_delay(min(-ts_returns(low, 5), -sigmoid(vwap)), 2),\n max(ts_delay(-sigmoid(vwap), 2), min(ts_regbeta(volume, adv20, 15), -sigmoid(vwap))),\n ts_max(-ts_covariance(ts_regbeta(high, vwap, 3), -sigmoid(low), 20), 20),\n max(div(-ts_corr(open, low, 2), -ts_product(vwap, 15)), ts_corr(-ts_covariance(low, low, 2), -sigmoid(vwap), 10)),\n -min(-ts_regbeta(-sigmoid(open), -ts_regbeta(adv20, close, 5), 10), div(-ts_corr(open, low, 2), -ts_product(vwap, 15))),\n ts_std_dev(-ts_product(ts_regbeta(open, returns, 20), 5), 2),\n -max(-ts_corr(-sigmoid(low), -mul(returns, returns), 5), ts_corr(-ts_covariance(vwap, open, 2), -sigmoid(high), 10)),\n -sub(-ts_corr(-sigmoid(open), -mul(adv20, vwap), 5), ts_corr(-ts_covariance(vwap, adv20, 2), -sigmoid(high), 10)),\n add(min(ts_regbeta(volume, adv20, 15), -sigmoid(vwap)), ts_corr(-sigmoid(vwap), -mul(low, high), 5)),\n max(ts_corr(-ts_covariance(high, volume, 2), -sigmoid(high), 10), ts_corr(-ts_covariance(returns, returns, 2), -sigmoid(close), 10)),\n -min(-ts_regbeta(-sigmoid(close), -ts_regbeta(vwap, open, 5), 10), -div(ts_regbeta(high, open, 5), ts_product(vwap, 15))),\n -min(-div(ts_regbeta(high, open, 5), ts_product(vwap, 15)), ts_corr(-ts_covariance(low, low, 2), -sigmoid(vwap), 10)),\n -ts_std_dev(ts_delay(-sigmoid(vwap), 2), 5),\n -ts_max(div(ts_regbeta(close, open, 5), ts_product(open, 15)), 2),\n -min(max(-ts_regbeta(open, returns, 3), ts_regbeta(returns, returns, 15)), -div(ts_regbeta(high, open, 5), ts_product(vwap, 15))),\n -min(ts_delay(-sigmoid(vwap), 2), div(-ts_regbeta(low, open, 20), -rank(vwap))),\n max(-ts_regbeta(ts_covariance(returns, close, 7), -sigmoid(vwap), 5), -ts_regbeta(-sigmoid(low), -ts_regbeta(returns, close, 5), 10)),\n -min(-ts_corr(-sigmoid(low), ts_regbeta(low, volume, 20), 5), min(ts_regbeta(high, open, 15), -sigmoid(vwap))),\n max(-div(ts_regbeta(volume, low, 5), ts_product(low, 15)), -ts_corr(-sigmoid(vwap), ts_regbeta(close, returns, 20), 5)),\n max(div(ts_regbeta(returns, high, 5), ts_product(vwap, 15)), -ts_corr(-sigmoid(vwap), -mul(returns, returns), 5)),\n -min(-ts_corr(-sigmoid(open), -mul(high, returns), 5), -ts_regbeta(-ts_regbeta(vwap, volume, 5), -ts_regbeta(high, returns, 2), 40)),\n max(-ts_regbeta(ts_covariance(returns, low, 7), -sigmoid(low), 5), -ts_regbeta(-sigmoid(vwap), -ts_regbeta(low, returns, 5), 10)),\n -ts_max(ts_corr(-ts_covariance(returns, vwap, 2), -sigmoid(high), 10), 2),\n -ts_product(div(-ts_regbeta(open, close, 5), -rank(vwap)), 2),\n -min(-div(ts_regbeta(high, open, 5), ts_product(vwap, 15)), ts_corr(-sigmoid(vwap), -mul(open, returns), 5)),\n max(div(ts_regbeta(returns, high, 5), ts_product(close, 15)), -ts_regbeta(-sigmoid(low), -ts_regbeta(low, close, 5), 10)),\n mul(ts_corr(-sigmoid(vwap), -mul(close, adv20), 5), mul(ts_regbeta(close, returns, 15), ts_covariance(returns, returns, 10))),\n max(-ts_corr(-ts_covariance(high, returns, 2), -sigmoid(low), 10), ts_corr(-ts_covariance(vwap, vwap, 2), -sigmoid(close), 10)),\n -max(-div(ts_covariance(returns, open, 15), ts_product(high, 15)), -ts_corr(-sigmoid(close), ts_regbeta(high, open, 20), 5)),\n ts_max(-ts_regbeta(-sigmoid(vwap), -ts_regbeta(vwap, high, 5), 10), 60),\n -abs(-ts_regbeta(ts_covariance(high, close, 7), -sigmoid(vwap), 5)),\n add(div(ts_regbeta(returns, high, 5), ts_product(close, 15)), min(ts_regbeta(volume, adv20, 15), -sigmoid(vwap))),\n ts_std_dev(min(-ts_returns(vwap, 5), -sigmoid(vwap)), 5),\n -min(ts_delay(-sigmoid(vwap), 2), -ts_corr(-sigmoid(open), ts_regbeta(close, returns, 20), 5)),\n -min(-ts_corr(-sigmoid(close), ts_regbeta(open, volume, 20), 5), -ts_regbeta(-ts_product(low, 20), ts_arg_max(returns, 5), 40)),\n max(-ts_product(-ts_covariance(returns, returns, 5), 40), -div(-ts_regbeta(volume, vwap, 3), -ts_product(vwap, 15))),\n max(div(-ts_corr(close, returns, 2), -ts_product(vwap, 15)), -ts_regbeta(-sigmoid(high), -ts_regbeta(high, open, 5), 10)),\n -max(-div(ts_covariance(returns, open, 15), ts_product(high, 15)), ts_corr(-ts_covariance(returns, low, 2), -sigmoid(close), 10)),\n max(div(ts_regbeta(returns, high, 5), ts_product(close, 15)), -ts_corr(-ts_covariance(close, returns, 2), -sigmoid(vwap), 10))]"
     },
     "execution_count": 8,
     "metadata": {},
     "output_type": "execute_result"
    }
   ],
   "source": [
    "program_best"
   ],
   "metadata": {
    "collapsed": false
   }
  },
  {
   "cell_type": "code",
   "execution_count": 9,
   "outputs": [
    {
     "name": "stdout",
     "output_type": "stream",
     "text": [
      "Index(['2017-07-11', '2017-07-12', '2017-07-13', '2017-07-14', '2017-07-17',\n",
      "       '2017-07-18', '2017-07-19', '2017-07-20', '2017-07-21', '2017-07-24',\n",
      "       ...\n",
      "       '2023-03-29', '2023-03-30', '2023-03-31', '2023-04-03', '2023-04-04',\n",
      "       '2023-04-05', '2023-04-06', '2023-04-10', '2023-04-11', '2023-04-12'],\n",
      "      dtype='object', name='trade_date', length=1449)\n"
     ]
    }
   ],
   "source": [
    "print(data_X[\"returns\"].index)"
   ],
   "metadata": {
    "collapsed": false
   }
  },
  {
   "cell_type": "code",
   "execution_count": 27,
   "outputs": [
    {
     "data": {
      "text/plain": "stk_id             A       AAL       AAP      AAPL      ABBV       ABC  \\\ntrade_date                                                               \n2017-07-11  0.015987  0.043358  0.005568  0.001573  0.014706  0.014211   \n2017-07-12  0.008310  0.000190  0.027006  0.016018  0.016945 -0.003353   \n2017-07-13  0.005436  0.007778 -0.013423  0.009892  0.010524  0.000721   \n2017-07-14  0.000698 -0.006589 -0.003234  0.003979 -0.008462 -0.003242   \n2017-07-17 -0.005577 -0.013644 -0.016111  0.003963 -0.010066 -0.016745   \n...              ...       ...       ...       ...       ...       ...   \n2023-04-05 -0.000434  0.008639  0.004043  0.005496  0.004708 -0.006035   \n2023-04-06 -0.000072  0.009993 -0.002517 -0.015972 -0.001687  0.000180   \n2023-04-10  0.003623  0.012014  0.015056 -0.007591  0.000626  0.001022   \n2023-04-11 -0.001155 -0.092179 -0.006961 -0.004353  0.006129 -0.006785   \n2023-04-12  0.021104 -0.003846  0.028455  0.034104  0.011251  0.011849   \n\nstk_id           ABT      ACGL       ACN      ADBE  ...      WYNN       XEL  \\\ntrade_date                                          ...                       \n2017-07-11  0.014330  0.004071  0.014369  0.020849  ...  0.007791       NaN   \n2017-07-12 -0.008829  0.001248  0.002833 -0.005826  ... -0.002288       NaN   \n2017-07-13  0.021125 -0.001558  0.009511  0.007583  ... -0.036053       NaN   \n2017-07-14 -0.003988  0.004056 -0.002799  0.001642  ... -0.004675       NaN   \n2017-07-17 -0.000250  0.002486  0.008606  0.010178  ...  0.030490       NaN   \n...              ...       ...       ...       ...  ...       ...       ...   \n2023-04-05  0.006943  0.005103  0.001320 -0.003717  ...  0.004788  0.002109   \n2023-04-06 -0.011779 -0.004207 -0.000071 -0.011429  ...  0.007331 -0.007156   \n2023-04-10 -0.003973  0.005244  0.016574 -0.013661  ... -0.017649  0.003957   \n2023-04-11 -0.007103  0.017679 -0.005084 -0.003287  ... -0.017781  0.000000   \n2023-04-12  0.015287  0.003845  0.005321  0.024088  ...  0.039600  0.000000   \n\nstk_id           XOM      XRAY       XYL       YUM       ZBH      ZBRA  \\\ntrade_date                                                               \n2017-07-11  0.005573  0.004860  0.019996  0.008202 -0.001571 -0.001490   \n2017-07-12  0.000489  0.007738  0.010105 -0.010795  0.021532 -0.003382   \n2017-07-13  0.004073  0.003679  0.005202  0.002847  0.029185  0.019166   \n2017-07-14 -0.006490 -0.000797  0.012739 -0.000315  0.001418 -0.013516   \n2017-07-17 -0.004410 -0.000957 -0.006289  0.003155 -0.011563 -0.001986   \n...              ...       ...       ...       ...       ...       ...   \n2023-04-05 -0.016583  0.007902 -0.000100  0.001213  0.004510  0.000366   \n2023-04-06 -0.004433  0.006070  0.012867 -0.007570 -0.007897  0.005662   \n2023-04-10  0.007072  0.024887  0.011620  0.003585  0.025205  0.006855   \n2023-04-11 -0.001040 -0.006377  0.007398  0.003116  0.001598 -0.008618   \n2023-04-12  0.004686  0.016539  0.010532  0.020306  0.007067  0.015792   \n\nstk_id          ZION       ZTS  \ntrade_date                      \n2017-07-11 -0.010844  0.006129  \n2017-07-12  0.005615  0.008006  \n2017-07-13 -0.007445  0.005352  \n2017-07-14 -0.010179 -0.004465  \n2017-07-17 -0.007037 -0.011040  \n...              ...       ...  \n2023-04-05  0.026546  0.007712  \n2023-04-06  0.016332  0.011449  \n2023-04-10  0.008035  0.001994  \n2023-04-11  0.005978  0.001405  \n2023-04-12  0.028392  0.012217  \n\n[1449 rows x 503 columns]",
      "text/html": "<div>\n<style scoped>\n    .dataframe tbody tr th:only-of-type {\n        vertical-align: middle;\n    }\n\n    .dataframe tbody tr th {\n        vertical-align: top;\n    }\n\n    .dataframe thead th {\n        text-align: right;\n    }\n</style>\n<table border=\"1\" class=\"dataframe\">\n  <thead>\n    <tr style=\"text-align: right;\">\n      <th>stk_id</th>\n      <th>A</th>\n      <th>AAL</th>\n      <th>AAP</th>\n      <th>AAPL</th>\n      <th>ABBV</th>\n      <th>ABC</th>\n      <th>ABT</th>\n      <th>ACGL</th>\n      <th>ACN</th>\n      <th>ADBE</th>\n      <th>...</th>\n      <th>WYNN</th>\n      <th>XEL</th>\n      <th>XOM</th>\n      <th>XRAY</th>\n      <th>XYL</th>\n      <th>YUM</th>\n      <th>ZBH</th>\n      <th>ZBRA</th>\n      <th>ZION</th>\n      <th>ZTS</th>\n    </tr>\n    <tr>\n      <th>trade_date</th>\n      <th></th>\n      <th></th>\n      <th></th>\n      <th></th>\n      <th></th>\n      <th></th>\n      <th></th>\n      <th></th>\n      <th></th>\n      <th></th>\n      <th></th>\n      <th></th>\n      <th></th>\n      <th></th>\n      <th></th>\n      <th></th>\n      <th></th>\n      <th></th>\n      <th></th>\n      <th></th>\n      <th></th>\n    </tr>\n  </thead>\n  <tbody>\n    <tr>\n      <th>2017-07-11</th>\n      <td>0.015987</td>\n      <td>0.043358</td>\n      <td>0.005568</td>\n      <td>0.001573</td>\n      <td>0.014706</td>\n      <td>0.014211</td>\n      <td>0.014330</td>\n      <td>0.004071</td>\n      <td>0.014369</td>\n      <td>0.020849</td>\n      <td>...</td>\n      <td>0.007791</td>\n      <td>NaN</td>\n      <td>0.005573</td>\n      <td>0.004860</td>\n      <td>0.019996</td>\n      <td>0.008202</td>\n      <td>-0.001571</td>\n      <td>-0.001490</td>\n      <td>-0.010844</td>\n      <td>0.006129</td>\n    </tr>\n    <tr>\n      <th>2017-07-12</th>\n      <td>0.008310</td>\n      <td>0.000190</td>\n      <td>0.027006</td>\n      <td>0.016018</td>\n      <td>0.016945</td>\n      <td>-0.003353</td>\n      <td>-0.008829</td>\n      <td>0.001248</td>\n      <td>0.002833</td>\n      <td>-0.005826</td>\n      <td>...</td>\n      <td>-0.002288</td>\n      <td>NaN</td>\n      <td>0.000489</td>\n      <td>0.007738</td>\n      <td>0.010105</td>\n      <td>-0.010795</td>\n      <td>0.021532</td>\n      <td>-0.003382</td>\n      <td>0.005615</td>\n      <td>0.008006</td>\n    </tr>\n    <tr>\n      <th>2017-07-13</th>\n      <td>0.005436</td>\n      <td>0.007778</td>\n      <td>-0.013423</td>\n      <td>0.009892</td>\n      <td>0.010524</td>\n      <td>0.000721</td>\n      <td>0.021125</td>\n      <td>-0.001558</td>\n      <td>0.009511</td>\n      <td>0.007583</td>\n      <td>...</td>\n      <td>-0.036053</td>\n      <td>NaN</td>\n      <td>0.004073</td>\n      <td>0.003679</td>\n      <td>0.005202</td>\n      <td>0.002847</td>\n      <td>0.029185</td>\n      <td>0.019166</td>\n      <td>-0.007445</td>\n      <td>0.005352</td>\n    </tr>\n    <tr>\n      <th>2017-07-14</th>\n      <td>0.000698</td>\n      <td>-0.006589</td>\n      <td>-0.003234</td>\n      <td>0.003979</td>\n      <td>-0.008462</td>\n      <td>-0.003242</td>\n      <td>-0.003988</td>\n      <td>0.004056</td>\n      <td>-0.002799</td>\n      <td>0.001642</td>\n      <td>...</td>\n      <td>-0.004675</td>\n      <td>NaN</td>\n      <td>-0.006490</td>\n      <td>-0.000797</td>\n      <td>0.012739</td>\n      <td>-0.000315</td>\n      <td>0.001418</td>\n      <td>-0.013516</td>\n      <td>-0.010179</td>\n      <td>-0.004465</td>\n    </tr>\n    <tr>\n      <th>2017-07-17</th>\n      <td>-0.005577</td>\n      <td>-0.013644</td>\n      <td>-0.016111</td>\n      <td>0.003963</td>\n      <td>-0.010066</td>\n      <td>-0.016745</td>\n      <td>-0.000250</td>\n      <td>0.002486</td>\n      <td>0.008606</td>\n      <td>0.010178</td>\n      <td>...</td>\n      <td>0.030490</td>\n      <td>NaN</td>\n      <td>-0.004410</td>\n      <td>-0.000957</td>\n      <td>-0.006289</td>\n      <td>0.003155</td>\n      <td>-0.011563</td>\n      <td>-0.001986</td>\n      <td>-0.007037</td>\n      <td>-0.011040</td>\n    </tr>\n    <tr>\n      <th>...</th>\n      <td>...</td>\n      <td>...</td>\n      <td>...</td>\n      <td>...</td>\n      <td>...</td>\n      <td>...</td>\n      <td>...</td>\n      <td>...</td>\n      <td>...</td>\n      <td>...</td>\n      <td>...</td>\n      <td>...</td>\n      <td>...</td>\n      <td>...</td>\n      <td>...</td>\n      <td>...</td>\n      <td>...</td>\n      <td>...</td>\n      <td>...</td>\n      <td>...</td>\n      <td>...</td>\n    </tr>\n    <tr>\n      <th>2023-04-05</th>\n      <td>-0.000434</td>\n      <td>0.008639</td>\n      <td>0.004043</td>\n      <td>0.005496</td>\n      <td>0.004708</td>\n      <td>-0.006035</td>\n      <td>0.006943</td>\n      <td>0.005103</td>\n      <td>0.001320</td>\n      <td>-0.003717</td>\n      <td>...</td>\n      <td>0.004788</td>\n      <td>0.002109</td>\n      <td>-0.016583</td>\n      <td>0.007902</td>\n      <td>-0.000100</td>\n      <td>0.001213</td>\n      <td>0.004510</td>\n      <td>0.000366</td>\n      <td>0.026546</td>\n      <td>0.007712</td>\n    </tr>\n    <tr>\n      <th>2023-04-06</th>\n      <td>-0.000072</td>\n      <td>0.009993</td>\n      <td>-0.002517</td>\n      <td>-0.015972</td>\n      <td>-0.001687</td>\n      <td>0.000180</td>\n      <td>-0.011779</td>\n      <td>-0.004207</td>\n      <td>-0.000071</td>\n      <td>-0.011429</td>\n      <td>...</td>\n      <td>0.007331</td>\n      <td>-0.007156</td>\n      <td>-0.004433</td>\n      <td>0.006070</td>\n      <td>0.012867</td>\n      <td>-0.007570</td>\n      <td>-0.007897</td>\n      <td>0.005662</td>\n      <td>0.016332</td>\n      <td>0.011449</td>\n    </tr>\n    <tr>\n      <th>2023-04-10</th>\n      <td>0.003623</td>\n      <td>0.012014</td>\n      <td>0.015056</td>\n      <td>-0.007591</td>\n      <td>0.000626</td>\n      <td>0.001022</td>\n      <td>-0.003973</td>\n      <td>0.005244</td>\n      <td>0.016574</td>\n      <td>-0.013661</td>\n      <td>...</td>\n      <td>-0.017649</td>\n      <td>0.003957</td>\n      <td>0.007072</td>\n      <td>0.024887</td>\n      <td>0.011620</td>\n      <td>0.003585</td>\n      <td>0.025205</td>\n      <td>0.006855</td>\n      <td>0.008035</td>\n      <td>0.001994</td>\n    </tr>\n    <tr>\n      <th>2023-04-11</th>\n      <td>-0.001155</td>\n      <td>-0.092179</td>\n      <td>-0.006961</td>\n      <td>-0.004353</td>\n      <td>0.006129</td>\n      <td>-0.006785</td>\n      <td>-0.007103</td>\n      <td>0.017679</td>\n      <td>-0.005084</td>\n      <td>-0.003287</td>\n      <td>...</td>\n      <td>-0.017781</td>\n      <td>0.000000</td>\n      <td>-0.001040</td>\n      <td>-0.006377</td>\n      <td>0.007398</td>\n      <td>0.003116</td>\n      <td>0.001598</td>\n      <td>-0.008618</td>\n      <td>0.005978</td>\n      <td>0.001405</td>\n    </tr>\n    <tr>\n      <th>2023-04-12</th>\n      <td>0.021104</td>\n      <td>-0.003846</td>\n      <td>0.028455</td>\n      <td>0.034104</td>\n      <td>0.011251</td>\n      <td>0.011849</td>\n      <td>0.015287</td>\n      <td>0.003845</td>\n      <td>0.005321</td>\n      <td>0.024088</td>\n      <td>...</td>\n      <td>0.039600</td>\n      <td>0.000000</td>\n      <td>0.004686</td>\n      <td>0.016539</td>\n      <td>0.010532</td>\n      <td>0.020306</td>\n      <td>0.007067</td>\n      <td>0.015792</td>\n      <td>0.028392</td>\n      <td>0.012217</td>\n    </tr>\n  </tbody>\n</table>\n<p>1449 rows × 503 columns</p>\n</div>"
     },
     "execution_count": 27,
     "metadata": {},
     "output_type": "execute_result"
    }
   ],
   "source": [
    "data_y"
   ],
   "metadata": {
    "collapsed": false
   }
  },
  {
   "cell_type": "code",
   "execution_count": null,
   "outputs": [],
   "source": [],
   "metadata": {
    "collapsed": false
   }
  },
  {
   "cell_type": "code",
   "execution_count": 12,
   "outputs": [
    {
     "name": "stderr",
     "output_type": "stream",
     "text": [
      "100%|██████████| 100/100 [00:51<00:00,  1.94it/s]\n"
     ]
    }
   ],
   "source": [
    "len_list = []\n",
    "factor_result_list = []\n",
    "for program in tqdm(program_best):\n",
    "    res = program.execute(dataset=dataset)\n",
    "    len_list.append(len(res))\n",
    "    factor_result_list.append(res)"
   ],
   "metadata": {
    "collapsed": false
   }
  },
  {
   "cell_type": "code",
   "execution_count": 13,
   "outputs": [],
   "source": [
    "for idx, res in enumerate(factor_result_list):\n",
    "    factor_result_list[idx] = res[len(res) - min(len_list) : ]"
   ],
   "metadata": {
    "collapsed": false
   }
  },
  {
   "cell_type": "code",
   "execution_count": 14,
   "outputs": [
    {
     "data": {
      "text/plain": "{1369}"
     },
     "execution_count": 14,
     "metadata": {},
     "output_type": "execute_result"
    }
   ],
   "source": [
    "set([len(res) for res in factor_result_list])"
   ],
   "metadata": {
    "collapsed": false
   }
  },
  {
   "cell_type": "code",
   "execution_count": 28,
   "outputs": [],
   "source": [
    "factor_df_list = []\n",
    "date_idx = data_y.index\n",
    "columns = data_y.columns\n",
    "for fac in factor_result_list:\n",
    "    fac_df = pd.DataFrame(data=fac, index=date_idx[len(date_idx) - len(fac): ], columns=columns)\n",
    "    factor_df_list.append(fac_df)\n",
    "    # print(fac_df)"
   ],
   "metadata": {
    "collapsed": false
   }
  },
  {
   "cell_type": "code",
   "execution_count": null,
   "outputs": [],
   "source": [],
   "metadata": {
    "collapsed": false
   }
  },
  {
   "cell_type": "code",
   "execution_count": 29,
   "outputs": [],
   "source": [
    "with open(\"2023_05_15/factor_results.pkl\", \"wb\") as f:\n",
    "    pickle.dump(factor_result_list, f)"
   ],
   "metadata": {
    "collapsed": false
   }
  },
  {
   "cell_type": "code",
   "execution_count": 30,
   "outputs": [],
   "source": [
    "with open(\"2023_05_15/factor_df_list.pkl\", \"wb\") as f:\n",
    "    pickle.dump(factor_df_list, f)"
   ],
   "metadata": {
    "collapsed": false
   }
  }
 ],
 "metadata": {
  "kernelspec": {
   "display_name": "Python 3",
   "language": "python",
   "name": "python3"
  },
  "language_info": {
   "codemirror_mode": {
    "name": "ipython",
    "version": 2
   },
   "file_extension": ".py",
   "mimetype": "text/x-python",
   "name": "python",
   "nbconvert_exporter": "python",
   "pygments_lexer": "ipython2",
   "version": "2.7.6"
  }
 },
 "nbformat": 4,
 "nbformat_minor": 0
}
