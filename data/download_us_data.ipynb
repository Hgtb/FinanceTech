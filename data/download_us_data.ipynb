{
 "cells": [
  {
   "cell_type": "code",
   "execution_count": null,
   "metadata": {
    "collapsed": true
   },
   "outputs": [],
   "source": [
    "import pandas as pd\n",
    "import numpy as np\n",
    "import akshare as ak\n",
    "from tqdm import tqdm"
   ]
  },
  {
   "cell_type": "code",
   "execution_count": null,
   "outputs": [],
   "source": [
    "df1 = pd.read_excel(\"上市公司一览.xlsx\", sheet_name=\"sheet1\")\n",
    "stk_ls = list(df1[\"证券代码\"])\n",
    "for idx, stk in enumerate(stk_ls):\n",
    "    stk_ls[idx] = stk.split(\".\")[0]\n",
    "print(len(stk_ls))\n",
    "print(stk_ls)"
   ],
   "metadata": {
    "collapsed": false
   }
  },
  {
   "cell_type": "code",
   "execution_count": null,
   "outputs": [],
   "source": [
    "stk_name_table = ak.stock_us_spot_em()\n",
    "print(stk_name_table)"
   ],
   "metadata": {
    "collapsed": false
   }
  },
  {
   "cell_type": "code",
   "execution_count": null,
   "outputs": [],
   "source": [
    "short_code = [i[4:] for i in stk_name_table.代码.values]\n",
    "ismatch = [i in stk_ls for i in short_code]\n",
    "print(len(ismatch))"
   ],
   "metadata": {
    "collapsed": false
   }
  },
  {
   "cell_type": "code",
   "execution_count": null,
   "outputs": [],
   "source": [
    "stk_in = stk_name_table[ismatch]\n",
    "print(stk_in.shape)"
   ],
   "metadata": {
    "collapsed": false
   }
  },
  {
   "cell_type": "code",
   "execution_count": null,
   "outputs": [],
   "source": [
    "stk_in_name = list(stk_in[\"代码\"])\n",
    "print(stk_in_name)"
   ],
   "metadata": {
    "collapsed": false
   }
  },
  {
   "cell_type": "code",
   "execution_count": null,
   "outputs": [],
   "source": [
    "df = ak.stock_us_hist(stk_in_name[1], period=\"daily\", start_date=\"20160101\", adjust=\"qfq\")\n",
    "print(df)"
   ],
   "metadata": {
    "collapsed": false
   }
  },
  {
   "cell_type": "code",
   "execution_count": null,
   "outputs": [],
   "source": [
    "df[\"stk_id\"] = stk_in_name[1][4:]\n",
    "print(df)"
   ],
   "metadata": {
    "collapsed": false
   }
  },
  {
   "cell_type": "code",
   "execution_count": null,
   "outputs": [],
   "source": [
    "df1 = df.rename(columns={\n",
    "    \"stk_id\": \"stk_id\",\n",
    "    \"日期\":\"trade_date\",\n",
    "    \"开盘\":\"open\",\n",
    "    \"收盘\":\"close\",\n",
    "    \"最高\":\"high\",\n",
    "    \"最低\":\"low\",\n",
    "    \"成交量\":\"volume\",\n",
    "    \"成交额\":\"amount\",\n",
    "    \"振幅\":\"volume\",\n",
    "    \"涨跌幅\":\"pct_change\",\n",
    "    \"涨跌额\":\"change\",\n",
    "    \"换手率\":\"turnover\",\n",
    "})\n",
    "print(df1.describe())\n",
    "print(df1)"
   ],
   "metadata": {
    "collapsed": false
   }
  },
  {
   "cell_type": "code",
   "execution_count": null,
   "outputs": [],
   "source": [
    "data_ls = []\n",
    "for stk_name in tqdm(stk_in_name):\n",
    "    df = ak.stock_us_hist(stk_name, period=\"daily\", start_date=\"20150101\", adjust=\"qfq\")\n",
    "    # df = ak.stock_us_hist(stk_name, period=\"daily\", start_date=\"20150101\", adjust=\"hfq\")\n",
    "    df[\"stk_id\"] = stk_name[4:]\n",
    "    df1 = df.rename(columns={\n",
    "        \"stk_id\": \"stk_id\",\n",
    "        \"日期\":\"trade_date\",\n",
    "        \"开盘\":\"open\",\n",
    "        \"收盘\":\"close\",\n",
    "        \"最高\":\"high\",\n",
    "        \"最低\":\"low\",\n",
    "        \"成交量\":\"volume\",\n",
    "        \"成交额\":\"amount\",\n",
    "        \"振幅\":\"amplitude\",\n",
    "        \"涨跌幅\":\"pct_change\",\n",
    "        \"涨跌额\":\"change\",\n",
    "        \"换手率\":\"turnover\",\n",
    "    })\n",
    "    # print(np.sum(df1.isna()))\n",
    "    data_ls.append(df1)"
   ],
   "metadata": {
    "collapsed": false
   }
  },
  {
   "cell_type": "code",
   "execution_count": null,
   "outputs": [],
   "source": [
    "print(len(data_ls))\n",
    "print(data_ls[0])"
   ],
   "metadata": {
    "collapsed": false
   }
  },
  {
   "cell_type": "code",
   "execution_count": null,
   "outputs": [],
   "source": [
    "df2 = pd.concat(data_ls)\n",
    "print(df2.shape)\n",
    "df2.to_csv(\"sp500_raw_data.csv\")"
   ],
   "metadata": {
    "collapsed": false
   }
  },
  {
   "cell_type": "code",
   "execution_count": null,
   "outputs": [],
   "source": [
    "df2 = pd.read_csv(\"sp500_raw_data.csv\")"
   ],
   "metadata": {
    "collapsed": false
   }
  },
  {
   "cell_type": "code",
   "execution_count": null,
   "outputs": [],
   "source": [
    "df3 = df2.pivot(index='trade_date', columns='stk_id',\n",
    "                             values=['open', 'close', 'high', 'low', 'volume', 'amount', 'amplitude', 'pct_change', 'change', 'turnover'])\n",
    "print(df3)"
   ],
   "metadata": {
    "collapsed": false
   }
  },
  {
   "cell_type": "code",
   "execution_count": null,
   "outputs": [],
   "source": [
    "amount = df3[\"amount\"].replace(0,np.nan)\n",
    "data1 = {\n",
    "    \"open\": df3[\"open\"].replace(0,np.nan),\n",
    "    \"close\": df3[\"close\"].replace(0,np.nan),\n",
    "    \"high\": df3[\"high\"].replace(0,np.nan),\n",
    "    \"low\": df3[\"low\"].replace(0,np.nan),\n",
    "    \"volume\": df3[\"volume\"].replace(0,np.nan),\n",
    "    #\n",
    "    # \"turnover\": df3[\"turnover\"].replace(0,np.nan),\n",
    "}\n",
    "data1[\"adv20\"] = data1[\"volume\"].rolling(window=20).mean()\n",
    "data1[\"vwap\"] = amount / data1[\"volume\"]\n",
    "data1[\"returns\"] = (data1[\"close\"] / data1[\"close\"].shift(1) - 1)\n",
    "y = (data1[\"close\"] / data1[\"close\"].shift(1) - 1)"
   ],
   "metadata": {
    "collapsed": false
   }
  },
  {
   "cell_type": "code",
   "execution_count": null,
   "outputs": [],
   "source": [
    "start_date = \"2017-07-11\"\n",
    "end_date = \"2023-04-13\"\n",
    "# val[(pd.Series(val.index) < start_date) | (pd.Series(val.index) > end_date)].index\n",
    "for key, val in data1.items():\n",
    "    data1[key] = val.loc[start_date:end_date,:]\n",
    "y = y.loc[start_date:end_date,:]"
   ],
   "metadata": {
    "collapsed": false
   }
  },
  {
   "cell_type": "code",
   "execution_count": null,
   "outputs": [],
   "source": [
    "print(data1[\"open\"].shape)\n",
    "print(y.shape)"
   ],
   "metadata": {
    "collapsed": false
   }
  },
  {
   "cell_type": "code",
   "execution_count": null,
   "outputs": [],
   "source": [
    "data2 = data1.copy()\n",
    "y1 = y.copy()\n",
    "# index_list = ['open', 'close', 'high', 'low', 'volume', 'adv20', 'vwap', 'returns']\n",
    "# drop_df = pd.DataFrame(columns=next(iter(data2.values())).columns, index=index_list)\n",
    "# threshold = next(iter(data2.values())).shape[0] * 0.1\n",
    "# print(drop_df.shape)\n",
    "# print(data2[\"open\"].shape)\n",
    "# print(y.shape)\n",
    "# for idx, df in data2.items():\n",
    "#     drop_df.loc[idx] = df.isna().sum() > threshold\n",
    "# mask = drop_df.sum() > 1\n",
    "# for idx, df in data2.items():\n",
    "#     data2[idx] = data2[idx].loc[:, ~mask.values]\n",
    "#     # data2[idx].fillna(method='ffill',inplace=True)\n",
    "#     # data2[idx].fillna(method='bfill',inplace=True)\n",
    "# y = y.loc[:, ~mask.values]\n",
    "# y.fillna(method='ffill',inplace=True)\n",
    "# y.fillna(method='bfill',inplace=True)"
   ],
   "metadata": {
    "collapsed": false
   }
  },
  {
   "cell_type": "code",
   "execution_count": null,
   "outputs": [],
   "source": [
    "# y = (data2[\"close\"] / data2[\"close\"].shift(1) - 1)[1:]\n",
    "# for idx, df in data2.items():\n",
    "#     data2[idx] = data2[idx][1:]"
   ],
   "metadata": {
    "collapsed": false
   }
  },
  {
   "cell_type": "code",
   "execution_count": null,
   "outputs": [],
   "source": [
    "mask = abs(y1) < 0.5\n",
    "print(data2[\"open\"].shape)\n",
    "print(y.shape)\n",
    "for idx, df in data2.items():\n",
    "    data2[idx] = data2[idx].where(mask, np.nan)\n",
    "y1 = y1.where(mask, np.nan)\n",
    "print(data2[\"open\"].shape)\n",
    "print(y.shape)"
   ],
   "metadata": {
    "collapsed": false
   }
  },
  {
   "cell_type": "code",
   "execution_count": null,
   "outputs": [],
   "source": [
    "y2 = y1.shift(-1)[:-1]\n",
    "for idx, df in data2.items():\n",
    "    data2[idx] = data2[idx][:-1]"
   ],
   "metadata": {
    "collapsed": false
   }
  },
  {
   "cell_type": "code",
   "execution_count": null,
   "outputs": [],
   "source": [
    "print(data2[\"returns\"])"
   ],
   "metadata": {
    "collapsed": false
   }
  },
  {
   "cell_type": "code",
   "execution_count": null,
   "outputs": [],
   "source": [
    "print(y2)"
   ],
   "metadata": {
    "collapsed": false
   }
  },
  {
   "cell_type": "code",
   "execution_count": null,
   "outputs": [],
   "source": [
    "pd.Series(np.nanmax(abs(y2), axis=1)).plot()"
   ],
   "metadata": {
    "collapsed": false
   }
  },
  {
   "cell_type": "code",
   "execution_count": null,
   "outputs": [],
   "source": [
    "import pickle\n",
    "with open(\"us_data_2017_2023.pkl\", \"wb\") as f:\n",
    "    pickle.dump(data2, f)\n",
    "with open(\"us_return_2017_2023.pkl\", \"wb\") as f:\n",
    "    pickle.dump(y2, f)"
   ],
   "metadata": {
    "collapsed": false
   }
  },
  {
   "cell_type": "code",
   "execution_count": null,
   "outputs": [],
   "source": [
    "print(y2.shape)\n",
    "print(data2[\"open\"].shape)"
   ],
   "metadata": {
    "collapsed": false
   }
  }
 ],
 "metadata": {
  "kernelspec": {
   "display_name": "Python 3",
   "language": "python",
   "name": "python3"
  },
  "language_info": {
   "codemirror_mode": {
    "name": "ipython",
    "version": 2
   },
   "file_extension": ".py",
   "mimetype": "text/x-python",
   "name": "python",
   "nbconvert_exporter": "python",
   "pygments_lexer": "ipython2",
   "version": "2.7.6"
  }
 },
 "nbformat": 4,
 "nbformat_minor": 0
}
