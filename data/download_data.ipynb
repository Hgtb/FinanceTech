{
 "cells": [
  {
   "cell_type": "code",
   "execution_count": 16,
   "metadata": {
    "collapsed": true
   },
   "outputs": [],
   "source": [
    "import akshare as ak\n",
    "import pandas as pd\n",
    "import numpy as np\n",
    "from tqdm import tqdm"
   ]
  },
  {
   "cell_type": "code",
   "execution_count": 4,
   "outputs": [],
   "source": [
    "target_index = \"399300\""
   ],
   "metadata": {
    "collapsed": false
   }
  },
  {
   "cell_type": "code",
   "execution_count": 6,
   "outputs": [],
   "source": [
    "index_stock_info_df = ak.index_stock_info()"
   ],
   "metadata": {
    "collapsed": false
   }
  },
  {
   "cell_type": "code",
   "execution_count": 7,
   "outputs": [
    {
     "name": "stdout",
     "output_type": "stream",
     "text": [
      "       品种代码  品种名称        纳入日期\n",
      "0    002756  永兴材料  2022-12-12\n",
      "1    688303  大全能源  2022-12-12\n",
      "2    600884  杉杉股份  2022-12-12\n",
      "3    601689  拓普集团  2022-12-12\n",
      "4    000723  美锦能源  2022-12-12\n",
      "..      ...   ...         ...\n",
      "295  600660  福耀玻璃  2005-04-08\n",
      "296  600690  青岛海尔  2005-04-08\n",
      "297  600741  巴士股份  2005-04-08\n",
      "298  600795  国电电力  2005-04-08\n",
      "299  600900  长江电力  2005-04-08\n",
      "\n",
      "[300 rows x 3 columns]\n"
     ]
    }
   ],
   "source": [
    "index_stock_cons_df = ak.index_stock_cons(symbol=target_index)\n",
    "print(index_stock_cons_df)"
   ],
   "metadata": {
    "collapsed": false
   }
  },
  {
   "cell_type": "code",
   "execution_count": 9,
   "outputs": [
    {
     "name": "stdout",
     "output_type": "stream",
     "text": [
      "300\n",
      "<class 'str'>\n"
     ]
    }
   ],
   "source": [
    "stk_in_name = list(index_stock_cons_df[\"品种代码\"])\n",
    "print(len(stk_in_name))\n",
    "print(type(stk_in_name[0]))"
   ],
   "metadata": {
    "collapsed": false
   }
  },
  {
   "cell_type": "code",
   "execution_count": 17,
   "outputs": [
    {
     "name": "stderr",
     "output_type": "stream",
     "text": [
      "100%|██████████| 300/300 [01:23<00:00,  3.57it/s]\n"
     ]
    }
   ],
   "source": [
    "data_ls = []\n",
    "for stk_name in tqdm(stk_in_name):\n",
    "    df = ak.stock_zh_a_hist(stk_name, period=\"daily\", start_date=\"20150101\", adjust=\"qfq\")\n",
    "    # df = ak.stock_us_hist(stk_name, period=\"daily\", start_date=\"20150101\", adjust=\"hfq\")\n",
    "    df[\"stk_id\"] = stk_name[4:]\n",
    "    df1 = df.rename(columns={\n",
    "        \"stk_id\": \"stk_id\",\n",
    "        \"日期\":\"trade_date\",\n",
    "        \"开盘\":\"open\",\n",
    "        \"收盘\":\"close\",\n",
    "        \"最高\":\"high\",\n",
    "        \"最低\":\"low\",\n",
    "        \"成交量\":\"volume\",\n",
    "        \"成交额\":\"amount\",\n",
    "        \"振幅\":\"amplitude\",\n",
    "        \"涨跌幅\":\"pct_change\",\n",
    "        \"涨跌额\":\"change\",\n",
    "        \"换手率\":\"turnover\",\n",
    "    })\n",
    "    data_ls.append(df1)"
   ],
   "metadata": {
    "collapsed": false
   }
  },
  {
   "cell_type": "code",
   "execution_count": 23,
   "outputs": [
    {
     "name": "stdout",
     "output_type": "stream",
     "text": [
      "(511602, 12)\n"
     ]
    }
   ],
   "source": [
    "df2 = pd.concat(data_ls)\n",
    "print(df2.shape)\n",
    "df2.to_csv(\"hs300_raw_data.csv\", index=False)"
   ],
   "metadata": {
    "collapsed": false
   }
  },
  {
   "cell_type": "code",
   "execution_count": 24,
   "outputs": [],
   "source": [
    "df2 = pd.read_csv(\"hs300_raw_data.csv\")"
   ],
   "metadata": {
    "collapsed": false
   }
  },
  {
   "cell_type": "code",
   "execution_count": 25,
   "outputs": [
    {
     "name": "stdout",
     "output_type": "stream",
     "text": [
      "Index(['trade_date', 'open', 'close', 'high', 'low', 'volume', 'amount',\n",
      "       'amplitude', 'pct_change', 'change', 'turnover', 'stk_id'],\n",
      "      dtype='object')\n"
     ]
    }
   ],
   "source": [
    "print(df2.columns)"
   ],
   "metadata": {
    "collapsed": false
   }
  },
  {
   "cell_type": "code",
   "execution_count": 1,
   "outputs": [
    {
     "ename": "NameError",
     "evalue": "name 'df2' is not defined",
     "output_type": "error",
     "traceback": [
      "\u001B[1;31m---------------------------------------------------------------------------\u001B[0m",
      "\u001B[1;31mNameError\u001B[0m                                 Traceback (most recent call last)",
      "Cell \u001B[1;32mIn[1], line 1\u001B[0m\n\u001B[1;32m----> 1\u001B[0m df3 \u001B[38;5;241m=\u001B[39m \u001B[43mdf2\u001B[49m\u001B[38;5;241m.\u001B[39mpivot(index\u001B[38;5;241m=\u001B[39m\u001B[38;5;124m'\u001B[39m\u001B[38;5;124mtrade_date\u001B[39m\u001B[38;5;124m'\u001B[39m, columns\u001B[38;5;241m=\u001B[39m\u001B[38;5;124m'\u001B[39m\u001B[38;5;124mstk_id\u001B[39m\u001B[38;5;124m'\u001B[39m,\n\u001B[0;32m      2\u001B[0m                              values\u001B[38;5;241m=\u001B[39m[\u001B[38;5;124m'\u001B[39m\u001B[38;5;124mopen\u001B[39m\u001B[38;5;124m'\u001B[39m, \u001B[38;5;124m'\u001B[39m\u001B[38;5;124mclose\u001B[39m\u001B[38;5;124m'\u001B[39m, \u001B[38;5;124m'\u001B[39m\u001B[38;5;124mhigh\u001B[39m\u001B[38;5;124m'\u001B[39m, \u001B[38;5;124m'\u001B[39m\u001B[38;5;124mlow\u001B[39m\u001B[38;5;124m'\u001B[39m, \u001B[38;5;124m'\u001B[39m\u001B[38;5;124mvolume\u001B[39m\u001B[38;5;124m'\u001B[39m, \u001B[38;5;124m'\u001B[39m\u001B[38;5;124mamount\u001B[39m\u001B[38;5;124m'\u001B[39m, \u001B[38;5;124m'\u001B[39m\u001B[38;5;124mamplitude\u001B[39m\u001B[38;5;124m'\u001B[39m, \u001B[38;5;124m'\u001B[39m\u001B[38;5;124mpct_change\u001B[39m\u001B[38;5;124m'\u001B[39m, \u001B[38;5;124m'\u001B[39m\u001B[38;5;124mchange\u001B[39m\u001B[38;5;124m'\u001B[39m, \u001B[38;5;124m'\u001B[39m\u001B[38;5;124mturnover\u001B[39m\u001B[38;5;124m'\u001B[39m])\n\u001B[0;32m      3\u001B[0m \u001B[38;5;28mprint\u001B[39m(df3)\n",
      "\u001B[1;31mNameError\u001B[0m: name 'df2' is not defined"
     ]
    }
   ],
   "source": [
    "df3 = df2.pivot(index='trade_date', columns='stk_id',\n",
    "                             values=['open', 'close', 'high', 'low', 'volume', 'amount', 'amplitude', 'pct_change', 'change', 'turnover'])\n",
    "print(df3)"
   ],
   "metadata": {
    "collapsed": false
   }
  },
  {
   "cell_type": "code",
   "execution_count": null,
   "outputs": [],
   "source": [
    "amount = df3[\"amount\"].replace(0,np.nan)\n",
    "data1 = {\n",
    "    \"open\": df3[\"open\"].replace(0,np.nan),\n",
    "    \"close\": df3[\"close\"].replace(0,np.nan),\n",
    "    \"high\": df3[\"high\"].replace(0,np.nan),\n",
    "    \"low\": df3[\"low\"].replace(0,np.nan),\n",
    "    \"volume\": df3[\"volume\"].replace(0,np.nan),\n",
    "    #\n",
    "    # \"turnover\": df3[\"turnover\"].replace(0,np.nan),\n",
    "}\n",
    "data1[\"adv20\"] = data1[\"volume\"].rolling(window=20).mean()\n",
    "data1[\"vwap\"] = amount / data1[\"volume\"]\n",
    "data1[\"returns\"] = (data1[\"close\"] / data1[\"close\"].shift(1) - 1)\n",
    "y = (data1[\"close\"] / data1[\"close\"].shift(1) - 1)"
   ],
   "metadata": {
    "collapsed": false
   }
  },
  {
   "cell_type": "code",
   "execution_count": null,
   "outputs": [],
   "source": [
    "start_date = \"2017-07-11\"\n",
    "end_date = \"2023-04-13\"\n",
    "# val[(pd.Series(val.index) < start_date) | (pd.Series(val.index) > end_date)].index\n",
    "for key, val in data1.items():\n",
    "    data1[key] = val.loc[start_date:end_date,:]\n",
    "y = y.loc[start_date:end_date,:]"
   ],
   "metadata": {
    "collapsed": false
   }
  },
  {
   "cell_type": "code",
   "execution_count": null,
   "outputs": [],
   "source": [
    "# 删除缺失值占比>0.1的股票，并填充缺失值\n",
    "data2 = data1.copy()\n",
    "y1 = y.copy()\n",
    "index_list = ['open', 'close', 'high', 'low', 'volume', 'adv20', 'vwap', 'returns']\n",
    "drop_df = pd.DataFrame(columns=next(iter(data2.values())).columns, index=index_list)\n",
    "threshold = next(iter(data2.values())).shape[0] * 0.1\n",
    "print(drop_df.shape)\n",
    "print(data2[\"open\"].shape)\n",
    "print(y.shape)\n",
    "for idx, df in data2.items():\n",
    "    drop_df.loc[idx] = df.isna().sum() > threshold\n",
    "mask = drop_df.sum() > 1\n",
    "for idx, df in data2.items():\n",
    "    data2[idx] = data2[idx].loc[:, ~mask.values]\n",
    "    data2[idx].fillna(method='ffill',inplace=True)\n",
    "    data2[idx].fillna(method='bfill',inplace=True)\n",
    "y = y.loc[:, ~mask.values]\n",
    "y.fillna(method='ffill',inplace=True)\n",
    "y.fillna(method='bfill',inplace=True)"
   ],
   "metadata": {
    "collapsed": false
   }
  },
  {
   "cell_type": "code",
   "execution_count": null,
   "outputs": [],
   "source": [
    "# 对其y和data\n"
   ],
   "metadata": {
    "collapsed": false
   }
  },
  {
   "cell_type": "code",
   "execution_count": null,
   "outputs": [],
   "source": [],
   "metadata": {
    "collapsed": false
   }
  },
  {
   "cell_type": "code",
   "execution_count": null,
   "outputs": [],
   "source": [
    "import pickle\n",
    "with open(\"us_data_2017_2023.pkl\", \"wb\") as f:\n",
    "    pickle.dump(data2, f)\n",
    "with open(\"us_return_2017_2023.pkl\", \"wb\") as f:\n",
    "    pickle.dump(y2, f)"
   ],
   "metadata": {
    "collapsed": false
   }
  }
 ],
 "metadata": {
  "kernelspec": {
   "display_name": "Python 3",
   "language": "python",
   "name": "python3"
  },
  "language_info": {
   "codemirror_mode": {
    "name": "ipython",
    "version": 2
   },
   "file_extension": ".py",
   "mimetype": "text/x-python",
   "name": "python",
   "nbconvert_exporter": "python",
   "pygments_lexer": "ipython2",
   "version": "2.7.6"
  }
 },
 "nbformat": 4,
 "nbformat_minor": 0
}
